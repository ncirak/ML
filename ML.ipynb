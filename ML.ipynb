{
  "nbformat": 4,
  "nbformat_minor": 0,
  "metadata": {
    "colab": {
      "name": "ML",
      "provenance": [],
      "collapsed_sections": [],
      "include_colab_link": true
    },
    "kernelspec": {
      "name": "python3",
      "display_name": "Python 3"
    }
  },
  "cells": [
    {
      "cell_type": "markdown",
      "metadata": {
        "id": "view-in-github",
        "colab_type": "text"
      },
      "source": [
        "<a href=\"https://colab.research.google.com/github/ncirak/ML/blob/main/ML.ipynb\" target=\"_parent\"><img src=\"https://colab.research.google.com/assets/colab-badge.svg\" alt=\"Open In Colab\"/></a>"
      ]
    },
    {
      "cell_type": "markdown",
      "metadata": {
        "id": "JJ-nud09F7Hv"
      },
      "source": [
        "#Importing Libraries"
      ]
    },
    {
      "cell_type": "code",
      "metadata": {
        "colab": {
          "base_uri": "https://localhost:8080/"
        },
        "id": "iFxdpcM_F2AA",
        "outputId": "fd48a384-bd0a-4393-baa5-32dbe0121095"
      },
      "source": [
        "import numpy as np\r\n",
        "import matplotlib.pyplot as plt\r\n",
        "import pandas as pd\r\n",
        "from google.colab import drive\r\n",
        "import seaborn as sns \r\n",
        "from sklearn.linear_model import LinearRegression\r\n",
        "from sklearn.metrics import mean_squared_error\r\n",
        "from sklearn.ensemble import VotingRegressor\r\n",
        "from keras.wrappers.scikit_learn import KerasRegressor\r\n",
        "from sklearn.ensemble import RandomForestRegressor\r\n",
        "from sklearn.ensemble import AdaBoostRegressor\r\n",
        "from sklearn.ensemble import GradientBoostingRegressor\r\n",
        "from sklearn.ensemble import StackingRegressor\r\n",
        "from sklearn.tree import DecisionTreeRegressor\r\n",
        "from sklearn.model_selection import cross_val_score\r\n",
        "import csv\r\n",
        "from itertools import zip_longest\r\n",
        "drive.mount('/content/drive')"
      ],
      "execution_count": null,
      "outputs": [
        {
          "output_type": "stream",
          "text": [
            "Drive already mounted at /content/drive; to attempt to forcibly remount, call drive.mount(\"/content/drive\", force_remount=True).\n"
          ],
          "name": "stdout"
        }
      ]
    },
    {
      "cell_type": "markdown",
      "metadata": {
        "id": "by9SvrjvGhN0"
      },
      "source": [
        "# Importing Dataset and Exloratory Data Analysis"
      ]
    },
    {
      "cell_type": "code",
      "metadata": {
        "id": "_fNoN1suGko3"
      },
      "source": [
        "train_df = pd.read_excel('/content/drive/My Drive/train.xlsx')\r\n",
        "test_df = pd.read_excel('/content/drive/My Drive/test.xlsx')"
      ],
      "execution_count": null,
      "outputs": []
    },
    {
      "cell_type": "code",
      "metadata": {
        "id": "MMEnN-uhpF3E",
        "colab": {
          "base_uri": "https://localhost:8080/",
          "height": 290
        },
        "outputId": "ba90c5ea-103b-4577-ef2f-408fde918f6b"
      },
      "source": [
        "train_df.head(3)"
      ],
      "execution_count": null,
      "outputs": [
        {
          "output_type": "execute_result",
          "data": {
            "text/html": [
              "<div>\n",
              "<style scoped>\n",
              "    .dataframe tbody tr th:only-of-type {\n",
              "        vertical-align: middle;\n",
              "    }\n",
              "\n",
              "    .dataframe tbody tr th {\n",
              "        vertical-align: top;\n",
              "    }\n",
              "\n",
              "    .dataframe thead th {\n",
              "        text-align: right;\n",
              "    }\n",
              "</style>\n",
              "<table border=\"1\" class=\"dataframe\">\n",
              "  <thead>\n",
              "    <tr style=\"text-align: right;\">\n",
              "      <th></th>\n",
              "      <th>ID</th>\n",
              "      <th>GenderSelect</th>\n",
              "      <th>Country</th>\n",
              "      <th>Age</th>\n",
              "      <th>EmploymentStatus</th>\n",
              "      <th>CodeWriter</th>\n",
              "      <th>CurrentJobTitleSelect</th>\n",
              "      <th>TitleFit</th>\n",
              "      <th>CurrentEmployerType</th>\n",
              "      <th>MLToolNextYearSelect</th>\n",
              "      <th>MLMethodNextYearSelect</th>\n",
              "      <th>LanguageRecommendationSelect</th>\n",
              "      <th>LearningPlatformUsefulnessBlogs</th>\n",
              "      <th>LearningPlatformUsefulnessKaggle</th>\n",
              "      <th>LearningPlatformUsefulnessCourses</th>\n",
              "      <th>LearningPlatformUsefulnessProjects</th>\n",
              "      <th>LearningPlatformUsefulnessSO</th>\n",
              "      <th>LearningPlatformUsefulnessTextbook</th>\n",
              "      <th>LearningPlatformUsefulnessYouTube</th>\n",
              "      <th>DataScienceIdentitySelect</th>\n",
              "      <th>FormalEducation</th>\n",
              "      <th>MajorSelect</th>\n",
              "      <th>Tenure</th>\n",
              "      <th>PastJobTitlesSelect</th>\n",
              "      <th>MLSkillsSelect</th>\n",
              "      <th>MLTechniquesSelect</th>\n",
              "      <th>EmployerIndustry</th>\n",
              "      <th>EmployerSize</th>\n",
              "      <th>WorkProductionFrequency</th>\n",
              "      <th>WorkAlgorithmsSelect</th>\n",
              "      <th>WorkToolsFrequencyPython</th>\n",
              "      <th>WorkToolsFrequencyR</th>\n",
              "      <th>WorkToolsFrequencySQL</th>\n",
              "      <th>WorkMethodsFrequencyCross-Validation</th>\n",
              "      <th>WorkMethodsFrequencyDataVisualization</th>\n",
              "      <th>WorkMethodsFrequencyDecisionTrees</th>\n",
              "      <th>WorkMethodsFrequencyLogisticRegression</th>\n",
              "      <th>WorkMethodsFrequencyNeuralNetworks</th>\n",
              "      <th>WorkMethodsFrequencyPCA</th>\n",
              "      <th>WorkMethodsFrequencyRandomForests</th>\n",
              "      <th>WorkMethodsFrequencyTimeSeriesAnalysis</th>\n",
              "      <th>WorkChallengeFrequencyPolitics</th>\n",
              "      <th>WorkChallengeFrequencyUnusedResults</th>\n",
              "      <th>WorkChallengeFrequencyDirtyData</th>\n",
              "      <th>WorkChallengeFrequencyExplaining</th>\n",
              "      <th>WorkChallengeFrequencyTalent</th>\n",
              "      <th>WorkChallengeFrequencyClarity</th>\n",
              "      <th>WorkChallengeFrequencyDataAccess</th>\n",
              "      <th>CompensationScore</th>\n",
              "      <th>WorkDataVisualizations</th>\n",
              "      <th>WorkInternalVsExternalTools</th>\n",
              "      <th>WorkMLTeamSeatSelect</th>\n",
              "      <th>RemoteWork</th>\n",
              "      <th>JobSatisfaction</th>\n",
              "    </tr>\n",
              "  </thead>\n",
              "  <tbody>\n",
              "    <tr>\n",
              "      <th>0</th>\n",
              "      <td>1</td>\n",
              "      <td>Male</td>\n",
              "      <td>Pakistan</td>\n",
              "      <td>28.0</td>\n",
              "      <td>Independent contractor, freelancer, or self-em...</td>\n",
              "      <td>Yes</td>\n",
              "      <td>Software Developer/Software Engineer</td>\n",
              "      <td>Fine</td>\n",
              "      <td>Self-employed</td>\n",
              "      <td>Python</td>\n",
              "      <td>Link Analysis</td>\n",
              "      <td>SAS</td>\n",
              "      <td>NaN</td>\n",
              "      <td>NaN</td>\n",
              "      <td>Very useful</td>\n",
              "      <td>NaN</td>\n",
              "      <td>NaN</td>\n",
              "      <td>NaN</td>\n",
              "      <td>Not Useful</td>\n",
              "      <td>Sort of (Explain more)</td>\n",
              "      <td>Bachelor's degree</td>\n",
              "      <td>Information technology, networking, or system ...</td>\n",
              "      <td>3 to 5 years</td>\n",
              "      <td>Programmer,Software Developer/Software Engineer</td>\n",
              "      <td>Survival Analysis</td>\n",
              "      <td>Hidden Markov Models HMMs,Logistic Regression,...</td>\n",
              "      <td>Technology</td>\n",
              "      <td>NaN</td>\n",
              "      <td>Always</td>\n",
              "      <td>Random Forests</td>\n",
              "      <td>Often</td>\n",
              "      <td>NaN</td>\n",
              "      <td>Often</td>\n",
              "      <td>NaN</td>\n",
              "      <td>NaN</td>\n",
              "      <td>NaN</td>\n",
              "      <td>NaN</td>\n",
              "      <td>NaN</td>\n",
              "      <td>NaN</td>\n",
              "      <td>Often</td>\n",
              "      <td>NaN</td>\n",
              "      <td>NaN</td>\n",
              "      <td>NaN</td>\n",
              "      <td>Often</td>\n",
              "      <td>NaN</td>\n",
              "      <td>NaN</td>\n",
              "      <td>NaN</td>\n",
              "      <td>NaN</td>\n",
              "      <td>8.0</td>\n",
              "      <td>51-75% of projects</td>\n",
              "      <td>Approximately half internal and half external</td>\n",
              "      <td>Standalone Team</td>\n",
              "      <td>NaN</td>\n",
              "      <td>4</td>\n",
              "    </tr>\n",
              "    <tr>\n",
              "      <th>1</th>\n",
              "      <td>2</td>\n",
              "      <td>Male</td>\n",
              "      <td>Mexico</td>\n",
              "      <td>26.0</td>\n",
              "      <td>Employed full-time</td>\n",
              "      <td>Yes</td>\n",
              "      <td>Computer Scientist</td>\n",
              "      <td>Poorly</td>\n",
              "      <td>Employed by a company that doesn't perform adv...</td>\n",
              "      <td>Python</td>\n",
              "      <td>Deep learning</td>\n",
              "      <td>Python</td>\n",
              "      <td>Somewhat useful</td>\n",
              "      <td>Very useful</td>\n",
              "      <td>NaN</td>\n",
              "      <td>NaN</td>\n",
              "      <td>NaN</td>\n",
              "      <td>Very useful</td>\n",
              "      <td>NaN</td>\n",
              "      <td>No</td>\n",
              "      <td>Master's degree</td>\n",
              "      <td>Computer Science</td>\n",
              "      <td>1 to 2 years</td>\n",
              "      <td>Computer Scientist,Programmer,Researcher</td>\n",
              "      <td>Natural Language Processing,Supervised Machine...</td>\n",
              "      <td>Bayesian Techniques,Support Vector Machines (S...</td>\n",
              "      <td>Government</td>\n",
              "      <td>1,000 to 4,999 employees</td>\n",
              "      <td>Rarely</td>\n",
              "      <td>Bayesian Techniques,SVMs</td>\n",
              "      <td>Sometimes</td>\n",
              "      <td>Often</td>\n",
              "      <td>NaN</td>\n",
              "      <td>Sometimes</td>\n",
              "      <td>Most of the time</td>\n",
              "      <td>NaN</td>\n",
              "      <td>NaN</td>\n",
              "      <td>NaN</td>\n",
              "      <td>NaN</td>\n",
              "      <td>NaN</td>\n",
              "      <td>Rarely</td>\n",
              "      <td>NaN</td>\n",
              "      <td>NaN</td>\n",
              "      <td>NaN</td>\n",
              "      <td>NaN</td>\n",
              "      <td>Often</td>\n",
              "      <td>NaN</td>\n",
              "      <td>NaN</td>\n",
              "      <td>NaN</td>\n",
              "      <td>100% of projects</td>\n",
              "      <td>More internal than external</td>\n",
              "      <td>Business Department</td>\n",
              "      <td>NaN</td>\n",
              "      <td>7</td>\n",
              "    </tr>\n",
              "    <tr>\n",
              "      <th>2</th>\n",
              "      <td>3</td>\n",
              "      <td>Female</td>\n",
              "      <td>United States</td>\n",
              "      <td>34.0</td>\n",
              "      <td>Employed full-time</td>\n",
              "      <td>Yes</td>\n",
              "      <td>Data Analyst</td>\n",
              "      <td>Fine</td>\n",
              "      <td>Employed by government</td>\n",
              "      <td>TensorFlow</td>\n",
              "      <td>Deep learning</td>\n",
              "      <td>Python</td>\n",
              "      <td>Very useful</td>\n",
              "      <td>NaN</td>\n",
              "      <td>Somewhat useful</td>\n",
              "      <td>NaN</td>\n",
              "      <td>NaN</td>\n",
              "      <td>Somewhat useful</td>\n",
              "      <td>Somewhat useful</td>\n",
              "      <td>Sort of (Explain more)</td>\n",
              "      <td>Doctoral degree</td>\n",
              "      <td>Mathematics or statistics</td>\n",
              "      <td>6 to 10 years</td>\n",
              "      <td>Engineer,Operations Research Practitioner,Pred...</td>\n",
              "      <td>Supervised Machine Learning (Tabular Data)</td>\n",
              "      <td>Ensemble Methods,Evolutionary Approaches,Neura...</td>\n",
              "      <td>Government</td>\n",
              "      <td>1,000 to 4,999 employees</td>\n",
              "      <td>Rarely</td>\n",
              "      <td>Neural Networks,Regression/Logistic Regression</td>\n",
              "      <td>Sometimes</td>\n",
              "      <td>Often</td>\n",
              "      <td>NaN</td>\n",
              "      <td>Often</td>\n",
              "      <td>Often</td>\n",
              "      <td>NaN</td>\n",
              "      <td>NaN</td>\n",
              "      <td>Often</td>\n",
              "      <td>Sometimes</td>\n",
              "      <td>NaN</td>\n",
              "      <td>Sometimes</td>\n",
              "      <td>NaN</td>\n",
              "      <td>Sometimes</td>\n",
              "      <td>NaN</td>\n",
              "      <td>NaN</td>\n",
              "      <td>Sometimes</td>\n",
              "      <td>NaN</td>\n",
              "      <td>Most of the time</td>\n",
              "      <td>2.0</td>\n",
              "      <td>10-25% of projects</td>\n",
              "      <td>More internal than external</td>\n",
              "      <td>Other</td>\n",
              "      <td>Rarely</td>\n",
              "      <td>6</td>\n",
              "    </tr>\n",
              "  </tbody>\n",
              "</table>\n",
              "</div>"
            ],
            "text/plain": [
              "   ID GenderSelect  ... RemoteWork  JobSatisfaction\n",
              "0   1         Male  ...        NaN                4\n",
              "1   2         Male  ...        NaN                7\n",
              "2   3       Female  ...     Rarely                6\n",
              "\n",
              "[3 rows x 54 columns]"
            ]
          },
          "metadata": {
            "tags": []
          },
          "execution_count": 55
        }
      ]
    },
    {
      "cell_type": "code",
      "metadata": {
        "colab": {
          "base_uri": "https://localhost:8080/"
        },
        "id": "3k6wSQ8ffKud",
        "outputId": "3f15d67f-f78e-4f7e-ad27-9307acf60d78"
      },
      "source": [
        "#Dataset info\r\n",
        "print(train_df.info())"
      ],
      "execution_count": null,
      "outputs": [
        {
          "output_type": "stream",
          "text": [
            "<class 'pandas.core.frame.DataFrame'>\n",
            "RangeIndex: 5529 entries, 0 to 5528\n",
            "Data columns (total 54 columns):\n",
            " #   Column                                  Non-Null Count  Dtype  \n",
            "---  ------                                  --------------  -----  \n",
            " 0   ID                                      5529 non-null   int64  \n",
            " 1   GenderSelect                            5519 non-null   object \n",
            " 2   Country                                 5513 non-null   object \n",
            " 3   Age                                     5461 non-null   float64\n",
            " 4   EmploymentStatus                        5529 non-null   object \n",
            " 5   CodeWriter                              5529 non-null   object \n",
            " 6   CurrentJobTitleSelect                   5527 non-null   object \n",
            " 7   TitleFit                                5427 non-null   object \n",
            " 8   CurrentEmployerType                     5458 non-null   object \n",
            " 9   MLToolNextYearSelect                    5298 non-null   object \n",
            " 10  MLMethodNextYearSelect                  5252 non-null   object \n",
            " 11  LanguageRecommendationSelect            5334 non-null   object \n",
            " 12  LearningPlatformUsefulnessBlogs         2531 non-null   object \n",
            " 13  LearningPlatformUsefulnessKaggle        3168 non-null   object \n",
            " 14  LearningPlatformUsefulnessCourses       2941 non-null   object \n",
            " 15  LearningPlatformUsefulnessProjects      2499 non-null   object \n",
            " 16  LearningPlatformUsefulnessSO            2996 non-null   object \n",
            " 17  LearningPlatformUsefulnessTextbook      2202 non-null   object \n",
            " 18  LearningPlatformUsefulnessYouTube       2413 non-null   object \n",
            " 19  DataScienceIdentitySelect               3984 non-null   object \n",
            " 20  FormalEducation                         5522 non-null   object \n",
            " 21  MajorSelect                             5010 non-null   object \n",
            " 22  Tenure                                  5515 non-null   object \n",
            " 23  PastJobTitlesSelect                     5324 non-null   object \n",
            " 24  MLSkillsSelect                          5256 non-null   object \n",
            " 25  MLTechniquesSelect                      5218 non-null   object \n",
            " 26  EmployerIndustry                        5517 non-null   object \n",
            " 27  EmployerSize                            4948 non-null   object \n",
            " 28  WorkProductionFrequency                 4903 non-null   object \n",
            " 29  WorkAlgorithmsSelect                    5103 non-null   object \n",
            " 30  WorkToolsFrequencyPython                4247 non-null   object \n",
            " 31  WorkToolsFrequencyR                     3357 non-null   object \n",
            " 32  WorkToolsFrequencySQL                   3000 non-null   object \n",
            " 33  WorkMethodsFrequencyCross-Validation    2802 non-null   object \n",
            " 34  WorkMethodsFrequencyDataVisualization   3620 non-null   object \n",
            " 35  WorkMethodsFrequencyDecisionTrees       2654 non-null   object \n",
            " 36  WorkMethodsFrequencyLogisticRegression  3126 non-null   object \n",
            " 37  WorkMethodsFrequencyNeuralNetworks      1967 non-null   object \n",
            " 38  WorkMethodsFrequencyPCA                 2046 non-null   object \n",
            " 39  WorkMethodsFrequencyRandomForests       2502 non-null   object \n",
            " 40  WorkMethodsFrequencyTimeSeriesAnalysis  2294 non-null   object \n",
            " 41  WorkChallengeFrequencyPolitics          2092 non-null   object \n",
            " 42  WorkChallengeFrequencyUnusedResults     1360 non-null   object \n",
            " 43  WorkChallengeFrequencyDirtyData         2769 non-null   object \n",
            " 44  WorkChallengeFrequencyExplaining        1250 non-null   object \n",
            " 45  WorkChallengeFrequencyTalent            2366 non-null   object \n",
            " 46  WorkChallengeFrequencyClarity           1724 non-null   object \n",
            " 47  WorkChallengeFrequencyDataAccess        1720 non-null   object \n",
            " 48  CompensationScore                       4373 non-null   float64\n",
            " 49  WorkDataVisualizations                  5500 non-null   object \n",
            " 50  WorkInternalVsExternalTools             5413 non-null   object \n",
            " 51  WorkMLTeamSeatSelect                    5367 non-null   object \n",
            " 52  RemoteWork                              4947 non-null   object \n",
            " 53  JobSatisfaction                         5529 non-null   int64  \n",
            "dtypes: float64(2), int64(2), object(50)\n",
            "memory usage: 2.3+ MB\n",
            "None\n"
          ],
          "name": "stdout"
        }
      ]
    },
    {
      "cell_type": "code",
      "metadata": {
        "colab": {
          "base_uri": "https://localhost:8080/"
        },
        "id": "gScqxBs1rrVR",
        "outputId": "c3580795-1680-411c-dfe8-1d0d264f17e7"
      },
      "source": [
        "test_df.info()"
      ],
      "execution_count": null,
      "outputs": [
        {
          "output_type": "stream",
          "text": [
            "<class 'pandas.core.frame.DataFrame'>\n",
            "RangeIndex: 1000 entries, 0 to 999\n",
            "Data columns (total 53 columns):\n",
            " #   Column                                  Non-Null Count  Dtype  \n",
            "---  ------                                  --------------  -----  \n",
            " 0   ID                                      1000 non-null   int64  \n",
            " 1   GenderSelect                            998 non-null    object \n",
            " 2   Country                                 998 non-null    object \n",
            " 3   Age                                     986 non-null    float64\n",
            " 4   EmploymentStatus                        1000 non-null   object \n",
            " 5   CodeWriter                              1000 non-null   object \n",
            " 6   CurrentJobTitleSelect                   1000 non-null   object \n",
            " 7   TitleFit                                980 non-null    object \n",
            " 8   CurrentEmployerType                     986 non-null    object \n",
            " 9   MLToolNextYearSelect                    956 non-null    object \n",
            " 10  MLMethodNextYearSelect                  953 non-null    object \n",
            " 11  LanguageRecommendationSelect            962 non-null    object \n",
            " 12  LearningPlatformUsefulnessBlogs         453 non-null    object \n",
            " 13  LearningPlatformUsefulnessKaggle        604 non-null    object \n",
            " 14  LearningPlatformUsefulnessCourses       509 non-null    object \n",
            " 15  LearningPlatformUsefulnessProjects      448 non-null    object \n",
            " 16  LearningPlatformUsefulnessSO            551 non-null    object \n",
            " 17  LearningPlatformUsefulnessTextbook      405 non-null    object \n",
            " 18  LearningPlatformUsefulnessYouTube       466 non-null    object \n",
            " 19  DataScienceIdentitySelect               735 non-null    object \n",
            " 20  FormalEducation                         999 non-null    object \n",
            " 21  MajorSelect                             926 non-null    object \n",
            " 22  Tenure                                  999 non-null    object \n",
            " 23  PastJobTitlesSelect                     968 non-null    object \n",
            " 24  MLSkillsSelect                          958 non-null    object \n",
            " 25  MLTechniquesSelect                      951 non-null    object \n",
            " 26  EmployerIndustry                        998 non-null    object \n",
            " 27  EmployerSize                            898 non-null    object \n",
            " 28  WorkProductionFrequency                 893 non-null    object \n",
            " 29  WorkAlgorithmsSelect                    929 non-null    object \n",
            " 30  WorkToolsFrequencyPython                779 non-null    object \n",
            " 31  WorkToolsFrequencyR                     579 non-null    object \n",
            " 32  WorkToolsFrequencySQL                   564 non-null    object \n",
            " 33  WorkMethodsFrequencyCross-Validation    525 non-null    object \n",
            " 34  WorkMethodsFrequencyDataVisualization   683 non-null    object \n",
            " 35  WorkMethodsFrequencyDecisionTrees       497 non-null    object \n",
            " 36  WorkMethodsFrequencyLogisticRegression  558 non-null    object \n",
            " 37  WorkMethodsFrequencyNeuralNetworks      361 non-null    object \n",
            " 38  WorkMethodsFrequencyPCA                 370 non-null    object \n",
            " 39  WorkMethodsFrequencyRandomForests       476 non-null    object \n",
            " 40  WorkMethodsFrequencyTimeSeriesAnalysis  400 non-null    object \n",
            " 41  WorkChallengeFrequencyPolitics          384 non-null    object \n",
            " 42  WorkChallengeFrequencyUnusedResults     261 non-null    object \n",
            " 43  WorkChallengeFrequencyDirtyData         512 non-null    object \n",
            " 44  WorkChallengeFrequencyExplaining        234 non-null    object \n",
            " 45  WorkChallengeFrequencyTalent            415 non-null    object \n",
            " 46  WorkChallengeFrequencyClarity           312 non-null    object \n",
            " 47  WorkChallengeFrequencyDataAccess        308 non-null    object \n",
            " 48  CompensationScore                       745 non-null    float64\n",
            " 49  WorkDataVisualizations                  992 non-null    object \n",
            " 50  WorkInternalVsExternalTools             989 non-null    object \n",
            " 51  WorkMLTeamSeatSelect                    971 non-null    object \n",
            " 52  RemoteWork                              901 non-null    object \n",
            "dtypes: float64(2), int64(1), object(50)\n",
            "memory usage: 414.2+ KB\n"
          ],
          "name": "stdout"
        }
      ]
    },
    {
      "cell_type": "code",
      "metadata": {
        "id": "7gQC9RKcELkO",
        "colab": {
          "base_uri": "https://localhost:8080/",
          "height": 466
        },
        "outputId": "48e99d04-8a8f-4ff8-fe6d-fe0b1476a0cc"
      },
      "source": [
        "f,ax=plt.subplots(figsize=(18,8))\r\n",
        "\r\n",
        "train_df['EmploymentStatus'].value_counts().plot.pie(explode=[0.05,0.05,0.05],autopct='%1.1f%%',shadow=True)\r\n",
        "plt.show()"
      ],
      "execution_count": null,
      "outputs": [
        {
          "output_type": "display_data",
          "data": {
            "image/png": "[encoded data removed]",
            "text/plain": [
              "<Figure size 1296x576 with 1 Axes>"
            ]
          },
          "metadata": {
            "tags": []
          }
        }
      ]
    },
    {
      "cell_type": "code",
      "metadata": {
        "colab": {
          "base_uri": "https://localhost:8080/"
        },
        "id": "LybGXtVaaCoF",
        "outputId": "1a4c4dc3-2ae6-4835-9b34-837f030844f0"
      },
      "source": [
        "train_df['EmploymentStatus'].value_counts()                   "
      ],
      "execution_count": null,
      "outputs": [
        {
          "output_type": "execute_result",
          "data": {
            "text/plain": [
              "Employed full-time                                      4673\n",
              "Independent contractor, freelancer, or self-employed     559\n",
              "Employed part-time                                       297\n",
              "Name: EmploymentStatus, dtype: int64"
            ]
          },
          "metadata": {
            "tags": []
          },
          "execution_count": 59
        }
      ]
    },
    {
      "cell_type": "code",
      "metadata": {
        "colab": {
          "base_uri": "https://localhost:8080/",
          "height": 439
        },
        "id": "erDRxZUPaHge",
        "outputId": "5236b451-6dba-4bf0-fee3-3cb4ac99f14b"
      },
      "source": [
        "i = train_df[train_df[\"EmploymentStatus\"]==\"Employed full-time\"][\"JobSatisfaction\"].mean()\r\n",
        "j= train_df[train_df[\"EmploymentStatus\"]==\"Independent contractor, freelancer, or self-employed\"][\"JobSatisfaction\"].mean()\r\n",
        "k = train_df[train_df[\"EmploymentStatus\"]==\"Employed part-time\"][\"JobSatisfaction\"].mean()\r\n",
        "\r\n",
        "print(i, j, k)\r\n",
        "fig = plt.figure(figsize=(18,5))\r\n",
        "ax = fig.add_axes([0,0,1,1])\r\n",
        "ax.set_ylabel(\"JobSatisfaction\")\r\n",
        "ax.set_xlabel(\"EmploymentStatus\")\r\n",
        "f=[\"Employed full-time\",\"Independent contractor, freelancer, or self-employed\" , \"Employed part-time\"]\r\n",
        "g= [i, j, k]\r\n",
        "ax.bar(f, g)\r\n",
        "plt.show()"
      ],
      "execution_count": null,
      "outputs": [
        {
          "output_type": "stream",
          "text": [
            "6.727369997860047 7.116279069767442 6.734006734006734\n"
          ],
          "name": "stdout"
        },
        {
          "output_type": "display_data",
          "data": {
            "image/png": "[encoded data removed]",
            "text/plain": [
              "<Figure size 1296x360 with 1 Axes>"
            ]
          },
          "metadata": {
            "tags": [],
            "needs_background": "light"
          }
        }
      ]
    },
    {
      "cell_type": "code",
      "metadata": {
        "id": "4mhR6JgIOEyD",
        "colab": {
          "base_uri": "https://localhost:8080/"
        },
        "outputId": "f6da5435-7d68-4f05-bb59-95e936c71894"
      },
      "source": [
        "train_df['FormalEducation'].value_counts()                   "
      ],
      "execution_count": null,
      "outputs": [
        {
          "output_type": "execute_result",
          "data": {
            "text/plain": [
              "Master's degree                                                      2523\n",
              "Bachelor's degree                                                    1368\n",
              "Doctoral degree                                                      1231\n",
              "Professional degree                                                   175\n",
              "Some college/university study without earning a bachelor's degree     170\n",
              "I did not complete any formal education past high school               37\n",
              "I prefer not to answer                                                 18\n",
              "Name: FormalEducation, dtype: int64"
            ]
          },
          "metadata": {
            "tags": []
          },
          "execution_count": 61
        }
      ]
    },
    {
      "cell_type": "code",
      "metadata": {
        "colab": {
          "base_uri": "https://localhost:8080/",
          "height": 466
        },
        "id": "dzgVyPPYbNcD",
        "outputId": "9492cfd7-7b31-4c53-ec5f-6ad3e600a9ed"
      },
      "source": [
        "f,ax=plt.subplots(figsize=(18,8))\r\n",
        "train_df['FormalEducation'].value_counts().plot.pie(explode=[0.08,0.08,0.08, 0.08,0.08,0.08,0.08],autopct='%1.1f%%',shadow=True)\r\n",
        "plt.show()"
      ],
      "execution_count": null,
      "outputs": [
        {
          "output_type": "display_data",
          "data": {
            "image/png": "[encoded data removed]",
            "text/plain": [
              "<Figure size 1296x576 with 1 Axes>"
            ]
          },
          "metadata": {
            "tags": []
          }
        }
      ]
    },
    {
      "cell_type": "code",
      "metadata": {
        "colab": {
          "base_uri": "https://localhost:8080/",
          "height": 439
        },
        "id": "bOEf-Y_QTopE",
        "outputId": "6e69f2f3-230f-4f87-93e3-f5e210e7264f"
      },
      "source": [
        "x = train_df[train_df[\"FormalEducation\"]==\"I did not complete any formal education past high school\"][\"JobSatisfaction\"].mean()\r\n",
        "y = train_df[train_df[\"FormalEducation\"]==\"Some college/university study without earning a bachelor's degree\"][\"JobSatisfaction\"].mean()\r\n",
        "z = train_df[train_df[\"FormalEducation\"]==\"Bachelor's degree\"][\"JobSatisfaction\"].mean()\r\n",
        "t = train_df[train_df[\"FormalEducation\"]==\"Master's degree\"][\"JobSatisfaction\"].mean()\r\n",
        "w = train_df[train_df[\"FormalEducation\"]==\"Doctoral degree\"][\"JobSatisfaction\"].mean()\r\n",
        "q = train_df[train_df[\"FormalEducation\"]==\"Professional degree\"][\"JobSatisfaction\"].mean()\r\n",
        "\r\n",
        "print(x, y, z, t,w, q)\r\n",
        "fig = plt.figure(figsize=(18,5))\r\n",
        "ax = fig.add_axes([0,0,1,1])\r\n",
        "ax.set_ylabel(\"JobSatisfaction\")\r\n",
        "ax.set_xlabel(\"FormalEducation\")\r\n",
        "f = [\"I did not complete\", \"Without earning a bachelor's degree\", \"Bachelor's degree\", \"Master's degree\", \"Doctoral degree\", \"Professional degree\"]\r\n",
        "g= [x, y, z, t, w, q]\r\n",
        "ax.bar(f, g)\r\n",
        "plt.show()"
      ],
      "execution_count": null,
      "outputs": [
        {
          "output_type": "stream",
          "text": [
            "6.756756756756757 6.6647058823529415 6.567251461988304 6.737613951644867 7.085296506904955 6.474285714285714\n"
          ],
          "name": "stdout"
        },
        {
          "output_type": "display_data",
          "data": {
            "image/png": "[encoded data removed]",
            "text/plain": [
              "<Figure size 1296x360 with 1 Axes>"
            ]
          },
          "metadata": {
            "tags": [],
            "needs_background": "light"
          }
        }
      ]
    },
    {
      "cell_type": "code",
      "metadata": {
        "id": "MGeQzOXPFAnD",
        "colab": {
          "base_uri": "https://localhost:8080/"
        },
        "outputId": "0e1ebf8f-38fc-4514-e102-08f76ae351af"
      },
      "source": [
        "train_df['GenderSelect'].value_counts()"
      ],
      "execution_count": null,
      "outputs": [
        {
          "output_type": "execute_result",
          "data": {
            "text/plain": [
              "Male                                                 4682\n",
              "Female                                                768\n",
              "A different identity                                   41\n",
              "Non-binary, genderqueer, or gender non-conforming      28\n",
              "Name: GenderSelect, dtype: int64"
            ]
          },
          "metadata": {
            "tags": []
          },
          "execution_count": 64
        }
      ]
    },
    {
      "cell_type": "code",
      "metadata": {
        "colab": {
          "base_uri": "https://localhost:8080/",
          "height": 439
        },
        "id": "XGNfQDof-AHU",
        "outputId": "7b07a540-ac6b-45d9-ec82-bf436c3c12d0"
      },
      "source": [
        "a = train_df[train_df[\"GenderSelect\"]==\"Male\"][\"JobSatisfaction\"].mean()\r\n",
        "b = train_df[train_df[\"GenderSelect\"]==\"Female\"][\"JobSatisfaction\"].mean()\r\n",
        "c = train_df[train_df[\"GenderSelect\"]==\"A different identity\"][\"JobSatisfaction\"].mean()\r\n",
        "print(a,b,c)\r\n",
        "fig = plt.figure(figsize=(10,5))\r\n",
        "ax = fig.add_axes([0,0,1,1])\r\n",
        "ax.set_ylabel(\"JobSatisfaction\")\r\n",
        "ax.set_xlabel(\"GenderSelect\")\r\n",
        "f = [\"Male\", \"Female\", \"A different identity\"]\r\n",
        "g= [a,b,c]\r\n",
        "ax.bar(f, g)\r\n",
        "plt.show()"
      ],
      "execution_count": null,
      "outputs": [
        {
          "output_type": "stream",
          "text": [
            "6.791114908158907 6.618489583333333 7.2926829268292686\n"
          ],
          "name": "stdout"
        },
        {
          "output_type": "display_data",
          "data": {
            "image/png": "[encoded data removed]",
            "text/plain": [
              "<Figure size 720x360 with 1 Axes>"
            ]
          },
          "metadata": {
            "tags": [],
            "needs_background": "light"
          }
        }
      ]
    },
    {
      "cell_type": "code",
      "metadata": {
        "id": "yr1ClQCpYHlP",
        "colab": {
          "base_uri": "https://localhost:8080/"
        },
        "outputId": "8989257b-7c7b-4328-948f-dd8b9bb40e29"
      },
      "source": [
        "print(\"Mean of Age\", train_df['Age'].mean())\r\n",
        "print(\"Mode of Age\",train_df['Age'].mode()[0])"
      ],
      "execution_count": null,
      "outputs": [
        {
          "output_type": "stream",
          "text": [
            "Mean of Age 34.46163706280901\n",
            "Mode of Age 28.0\n"
          ],
          "name": "stdout"
        }
      ]
    },
    {
      "cell_type": "code",
      "metadata": {
        "colab": {
          "base_uri": "https://localhost:8080/"
        },
        "id": "jYK9yZW7_N6d",
        "outputId": "3ede7205-7a06-47f1-be73-d4ab6074bb4e"
      },
      "source": [
        "train_df['TitleFit'].unique()"
      ],
      "execution_count": null,
      "outputs": [
        {
          "output_type": "execute_result",
          "data": {
            "text/plain": [
              "array(['Fine', 'Poorly', 'Perfectly', nan], dtype=object)"
            ]
          },
          "metadata": {
            "tags": []
          },
          "execution_count": 67
        }
      ]
    },
    {
      "cell_type": "code",
      "metadata": {
        "id": "OmwAhf2D_Vzn",
        "colab": {
          "base_uri": "https://localhost:8080/",
          "height": 439
        },
        "outputId": "39fe4508-4ba1-4df6-a5a3-ae63d337865a"
      },
      "source": [
        "x= train_df[train_df[\"TitleFit\"]==\"Poorly\"][\"JobSatisfaction\"].mean()\r\n",
        "y = train_df[train_df[\"TitleFit\"]==\"Fine\"][\"JobSatisfaction\"].mean()\r\n",
        "z = train_df[train_df[\"TitleFit\"]==\"Perfectly\"][\"JobSatisfaction\"].mean()\r\n",
        "\r\n",
        "print(x, y, z)\r\n",
        "fig = plt.figure(figsize=(10,5))\r\n",
        "ax = fig.add_axes([0,0,1,1])\r\n",
        "ax.set_ylabel(\"JobSatisfaction\")\r\n",
        "ax.set_xlabel(\"TitleFit\")\r\n",
        "f = [ \"Poorly\", \"Fine\",\"Perfectly\"]\r\n",
        "g= [x, y, z]\r\n",
        "ax.bar(f, g)\r\n",
        "plt.show()"
      ],
      "execution_count": null,
      "outputs": [
        {
          "output_type": "stream",
          "text": [
            "5.921228304405875 6.765831691528286 7.375111111111111\n"
          ],
          "name": "stdout"
        },
        {
          "output_type": "display_data",
          "data": {
            "image/png": "[encoded data removed]",
            "text/plain": [
              "<Figure size 720x360 with 1 Axes>"
            ]
          },
          "metadata": {
            "tags": [],
            "needs_background": "light"
          }
        }
      ]
    },
    {
      "cell_type": "code",
      "metadata": {
        "id": "04i_msp-aqwz",
        "colab": {
          "base_uri": "https://localhost:8080/",
          "height": 466
        },
        "outputId": "e941b723-515c-414e-bc73-88550564a8cc"
      },
      "source": [
        "f,ax=plt.subplots(figsize=(18,8))\r\n",
        "train_df['TitleFit'].value_counts().plot.pie(explode=[0.05,0.05,0.05],autopct='%1.1f%%',shadow=True)\r\n",
        "plt.show()"
      ],
      "execution_count": null,
      "outputs": [
        {
          "output_type": "display_data",
          "data": {
            "image/png": "[encoded data removed]",
            "text/plain": [
              "<Figure size 1296x576 with 1 Axes>"
            ]
          },
          "metadata": {
            "tags": []
          }
        }
      ]
    },
    {
      "cell_type": "code",
      "metadata": {
        "colab": {
          "base_uri": "https://localhost:8080/",
          "height": 466
        },
        "id": "pkz2dqqGa9H7",
        "outputId": "c90388a6-8d81-45c7-b074-d1a80a2838d7"
      },
      "source": [
        "f,ax=plt.subplots(figsize=(18,8))\r\n",
        "train_df['Tenure'].value_counts().plot.pie(explode=[0.05,0.05,0.05, 0.05, 0.05, 0.05],autopct='%1.1f%%',shadow=True)\r\n",
        "plt.show()"
      ],
      "execution_count": null,
      "outputs": [
        {
          "output_type": "display_data",
          "data": {
            "image/png": "[encoded data removed]",
            "text/plain": [
              "<Figure size 1296x576 with 1 Axes>"
            ]
          },
          "metadata": {
            "tags": []
          }
        }
      ]
    },
    {
      "cell_type": "code",
      "metadata": {
        "colab": {
          "base_uri": "https://localhost:8080/",
          "height": 439
        },
        "id": "sdijnZ8WIS43",
        "outputId": "65b4d27b-0c18-47bf-cc16-d062baece0d8"
      },
      "source": [
        "x = train_df[train_df[\"Tenure\"]==\"Less than a year\"][\"JobSatisfaction\"].mean()\r\n",
        "y = train_df[train_df[\"Tenure\"]==\"1 to 2 years\"][\"JobSatisfaction\"].mean()\r\n",
        "z = train_df[train_df[\"Tenure\"]==\"3 to 5 years\"][\"JobSatisfaction\"].mean()\r\n",
        "t = train_df[train_df[\"Tenure\"]==\"6 to 10 years\"][\"JobSatisfaction\"].mean()\r\n",
        "w = train_df[train_df[\"Tenure\"]==\"More than 10 years\"][\"JobSatisfaction\"].mean()\r\n",
        "#q = train_df[train_df[\"Tenure\"]==\"I don't write code to analyze data\"][\"JobSatisfaction\"].mean()\r\n",
        "\r\n",
        "print(x, y, z, t,w)\r\n",
        "fig = plt.figure(figsize=(10,5))\r\n",
        "ax = fig.add_axes([0,0,1,1])\r\n",
        "ax.set_ylabel(\"JobSatisfaction\")\r\n",
        "ax.set_xlabel(\"Tenure\")\r\n",
        "f = [\"Less than a year\", \"1 to 2 years\", \"3 to 5 years\", \"6 to 10 years\", \"More than 10 years\"]\r\n",
        "g= [x, y, z, t, w]\r\n",
        "ax.bar(f, g)\r\n",
        "plt.show()"
      ],
      "execution_count": null,
      "outputs": [
        {
          "output_type": "stream",
          "text": [
            "6.29004329004329 6.658360128617363 6.787712895377129 6.8146639511201625 7.035253654342219\n"
          ],
          "name": "stdout"
        },
        {
          "output_type": "display_data",
          "data": {
            "image/png": "[encoded data removed]",
            "text/plain": [
              "<Figure size 720x360 with 1 Axes>"
            ]
          },
          "metadata": {
            "tags": [],
            "needs_background": "light"
          }
        }
      ]
    },
    {
      "cell_type": "code",
      "metadata": {
        "colab": {
          "base_uri": "https://localhost:8080/"
        },
        "id": "eCMtbzssOLev",
        "outputId": "84df39fc-6f29-4dd0-f9d3-851a4ec8d105"
      },
      "source": [
        "train_df['EmployerSize'].value_counts()"
      ],
      "execution_count": null,
      "outputs": [
        {
          "output_type": "execute_result",
          "data": {
            "text/plain": [
              "10,000 or more employees    1092\n",
              "100 to 499 employees         841\n",
              "20 to 99 employees           798\n",
              "1,000 to 4,999 employees     736\n",
              "500 to 999 employees         406\n",
              "10 to 19 employees           314\n",
              "5,000 to 9,999 employees     293\n",
              "Fewer than 10 employees      291\n",
              "I don't know                 140\n",
              "I prefer not to answer        37\n",
              "Name: EmployerSize, dtype: int64"
            ]
          },
          "metadata": {
            "tags": []
          },
          "execution_count": 72
        }
      ]
    },
    {
      "cell_type": "code",
      "metadata": {
        "colab": {
          "base_uri": "https://localhost:8080/",
          "height": 439
        },
        "id": "Kxf-5sVeOQfJ",
        "outputId": "fe38ff2a-1dba-4574-9aaf-fdad4c2d39e8"
      },
      "source": [
        "x = train_df[train_df[\"EmployerSize\"]==\"Fewer than 10 employees\"][\"JobSatisfaction\"].mean()\r\n",
        "y = train_df[train_df[\"EmployerSize\"]==\"10 to 19 employees\"][\"JobSatisfaction\"].mean()\r\n",
        "z = train_df[train_df[\"EmployerSize\"]==\"20 to 99 employees\"][\"JobSatisfaction\"].mean()\r\n",
        "t = train_df[train_df[\"EmployerSize\"]==\"100 to 499 employees\"][\"JobSatisfaction\"].mean()\r\n",
        "w = train_df[train_df[\"EmployerSize\"]==\"500 to 999 employees\"][\"JobSatisfaction\"].mean()\r\n",
        "q = train_df[train_df[\"EmployerSize\"]==\"1,000 to 4,999 employees\"][\"JobSatisfaction\"].mean()\r\n",
        "m = train_df[train_df[\"EmployerSize\"]==\"5,000 to 9,999 employees\"][\"JobSatisfaction\"].mean()\r\n",
        "n = train_df[train_df[\"EmployerSize\"]==\"10,000 or more employees\"][\"JobSatisfaction\"].mean()\r\n",
        "\r\n",
        "print(x, y, z, t,w , q,m,n)\r\n",
        "fig = plt.figure(figsize=(18,5))\r\n",
        "ax = fig.add_axes([0,0,1,1])\r\n",
        "ax.set_ylabel(\"JobSatisfaction\")\r\n",
        "ax.set_xlabel(\"EmployerSize\")\r\n",
        "\r\n",
        "f = [\"Fewer than 10 employees \",  \"10 to 19 employees\" ,\"20 to 99 employees\", \"100 to 499 employees\", \r\n",
        "     \"500 to 999 employees\",\"1,000 to 4,999 employees\", \"5,000 to 9,999 employees\",\r\n",
        "     \"10,000 or more employees\" ]  \r\n",
        "g= [x, y, z, t, w, q, m, n]\r\n",
        "ax.bar(f, g)\r\n",
        "plt.show()"
      ],
      "execution_count": null,
      "outputs": [
        {
          "output_type": "stream",
          "text": [
            "6.890034364261169 6.640127388535032 6.819548872180451 6.696789536266349 6.768472906403941 6.751358695652174 6.726962457337884 6.601648351648351\n"
          ],
          "name": "stdout"
        },
        {
          "output_type": "display_data",
          "data": {
            "image/png": "[encoded data removed]",
            "text/plain": [
              "<Figure size 1296x360 with 1 Axes>"
            ]
          },
          "metadata": {
            "tags": [],
            "needs_background": "light"
          }
        }
      ]
    },
    {
      "cell_type": "markdown",
      "metadata": {
        "id": "zPFNV_XVGnkD"
      },
      "source": [
        "##Choosing Attributes to Use"
      ]
    },
    {
      "cell_type": "code",
      "metadata": {
        "colab": {
          "base_uri": "https://localhost:8080/"
        },
        "id": "z0XhS7VzG54f",
        "outputId": "ee4157cf-69a8-4df9-948d-a51b09f22951"
      },
      "source": [
        "train_y = train_df['JobSatisfaction']\r\n",
        "train_y.head()"
      ],
      "execution_count": null,
      "outputs": [
        {
          "output_type": "execute_result",
          "data": {
            "text/plain": [
              "0    4\n",
              "1    7\n",
              "2    6\n",
              "3    9\n",
              "4    8\n",
              "Name: JobSatisfaction, dtype: int64"
            ]
          },
          "metadata": {
            "tags": []
          },
          "execution_count": 74
        }
      ]
    },
    {
      "cell_type": "code",
      "metadata": {
        "colab": {
          "base_uri": "https://localhost:8080/"
        },
        "id": "r9wOnbyrMkuh",
        "outputId": "df502a18-1b84-4765-b846-f808705895fe"
      },
      "source": [
        "train_y.mean()"
      ],
      "execution_count": null,
      "outputs": [
        {
          "output_type": "execute_result",
          "data": {
            "text/plain": [
              "6.767046482184844"
            ]
          },
          "metadata": {
            "tags": []
          },
          "execution_count": 75
        }
      ]
    },
    {
      "cell_type": "code",
      "metadata": {
        "id": "WMj8fbNaJW_n"
      },
      "source": [
        "train_x = train_df.drop(columns = ['ID','CodeWriter', 'LearningPlatformUsefulnessBlogs', 'LearningPlatformUsefulnessKaggle', 'LearningPlatformUsefulnessCourses','LearningPlatformUsefulnessProjects', \r\n",
        "                                   'LearningPlatformUsefulnessSO', 'LearningPlatformUsefulnessTextbook', 'LearningPlatformUsefulnessYouTube', 'WorkMethodsFrequencyCross-Validation', \r\n",
        "                                   'WorkMethodsFrequencyDataVisualization', 'WorkMethodsFrequencyDecisionTrees', 'WorkMethodsFrequencyLogisticRegression',\r\n",
        "                                   'WorkMethodsFrequencyNeuralNetworks', 'WorkMethodsFrequencyPCA', 'WorkMethodsFrequencyRandomForests', 'WorkMethodsFrequencyTimeSeriesAnalysis', \r\n",
        "                                   'WorkChallengeFrequencyPolitics', 'WorkChallengeFrequencyUnusedResults' , 'WorkChallengeFrequencyDirtyData', 'WorkChallengeFrequencyExplaining', \r\n",
        "                                   'WorkChallengeFrequencyTalent', 'WorkChallengeFrequencyClarity', 'WorkChallengeFrequencyDataAccess', 'JobSatisfaction'])\r\n",
        "test_x = test_df.drop(columns = ['ID','CodeWriter', 'LearningPlatformUsefulnessBlogs', 'LearningPlatformUsefulnessKaggle', 'LearningPlatformUsefulnessCourses','LearningPlatformUsefulnessProjects', \r\n",
        "                                   'LearningPlatformUsefulnessSO', 'LearningPlatformUsefulnessTextbook', 'LearningPlatformUsefulnessYouTube', 'WorkMethodsFrequencyCross-Validation', \r\n",
        "                                   'WorkMethodsFrequencyDataVisualization', 'WorkMethodsFrequencyDecisionTrees', 'WorkMethodsFrequencyLogisticRegression',\r\n",
        "                                   'WorkMethodsFrequencyNeuralNetworks', 'WorkMethodsFrequencyPCA', 'WorkMethodsFrequencyRandomForests', 'WorkMethodsFrequencyTimeSeriesAnalysis', \r\n",
        "                                   'WorkChallengeFrequencyPolitics', 'WorkChallengeFrequencyUnusedResults' , 'WorkChallengeFrequencyDirtyData', 'WorkChallengeFrequencyExplaining', \r\n",
        "                                   'WorkChallengeFrequencyTalent', 'WorkChallengeFrequencyClarity', 'WorkChallengeFrequencyDataAccess'])\r\n"
      ],
      "execution_count": null,
      "outputs": []
    },
    {
      "cell_type": "code",
      "metadata": {
        "colab": {
          "base_uri": "https://localhost:8080/"
        },
        "id": "WiVyF5FcbocE",
        "outputId": "f48c49e4-b601-4e4d-8461-16359320cadf"
      },
      "source": [
        "train_x.shape"
      ],
      "execution_count": null,
      "outputs": [
        {
          "output_type": "execute_result",
          "data": {
            "text/plain": [
              "(5529, 29)"
            ]
          },
          "metadata": {
            "tags": []
          },
          "execution_count": 77
        }
      ]
    },
    {
      "cell_type": "code",
      "metadata": {
        "colab": {
          "base_uri": "https://localhost:8080/"
        },
        "id": "GvOZhAbNbqNZ",
        "outputId": "c9ccee3f-d197-4a15-8604-cb89e85034e4"
      },
      "source": [
        "test_x.shape"
      ],
      "execution_count": null,
      "outputs": [
        {
          "output_type": "execute_result",
          "data": {
            "text/plain": [
              "(1000, 29)"
            ]
          },
          "metadata": {
            "tags": []
          },
          "execution_count": 78
        }
      ]
    },
    {
      "cell_type": "code",
      "metadata": {
        "colab": {
          "base_uri": "https://localhost:8080/"
        },
        "id": "bFfqnOmwYIAt",
        "outputId": "7d6e23e3-08f3-48a9-8891-52cfbb770fed"
      },
      "source": [
        "test_x.info()\r\n",
        "#to see how much nan-values are in the test data"
      ],
      "execution_count": null,
      "outputs": [
        {
          "output_type": "stream",
          "text": [
            "<class 'pandas.core.frame.DataFrame'>\n",
            "RangeIndex: 1000 entries, 0 to 999\n",
            "Data columns (total 29 columns):\n",
            " #   Column                        Non-Null Count  Dtype  \n",
            "---  ------                        --------------  -----  \n",
            " 0   GenderSelect                  998 non-null    object \n",
            " 1   Country                       998 non-null    object \n",
            " 2   Age                           986 non-null    float64\n",
            " 3   EmploymentStatus              1000 non-null   object \n",
            " 4   CurrentJobTitleSelect         1000 non-null   object \n",
            " 5   TitleFit                      980 non-null    object \n",
            " 6   CurrentEmployerType           986 non-null    object \n",
            " 7   MLToolNextYearSelect          956 non-null    object \n",
            " 8   MLMethodNextYearSelect        953 non-null    object \n",
            " 9   LanguageRecommendationSelect  962 non-null    object \n",
            " 10  DataScienceIdentitySelect     735 non-null    object \n",
            " 11  FormalEducation               999 non-null    object \n",
            " 12  MajorSelect                   926 non-null    object \n",
            " 13  Tenure                        999 non-null    object \n",
            " 14  PastJobTitlesSelect           968 non-null    object \n",
            " 15  MLSkillsSelect                958 non-null    object \n",
            " 16  MLTechniquesSelect            951 non-null    object \n",
            " 17  EmployerIndustry              998 non-null    object \n",
            " 18  EmployerSize                  898 non-null    object \n",
            " 19  WorkProductionFrequency       893 non-null    object \n",
            " 20  WorkAlgorithmsSelect          929 non-null    object \n",
            " 21  WorkToolsFrequencyPython      779 non-null    object \n",
            " 22  WorkToolsFrequencyR           579 non-null    object \n",
            " 23  WorkToolsFrequencySQL         564 non-null    object \n",
            " 24  CompensationScore             745 non-null    float64\n",
            " 25  WorkDataVisualizations        992 non-null    object \n",
            " 26  WorkInternalVsExternalTools   989 non-null    object \n",
            " 27  WorkMLTeamSeatSelect          971 non-null    object \n",
            " 28  RemoteWork                    901 non-null    object \n",
            "dtypes: float64(2), object(27)\n",
            "memory usage: 226.7+ KB\n"
          ],
          "name": "stdout"
        }
      ]
    },
    {
      "cell_type": "markdown",
      "metadata": {
        "id": "IUKcQh1KMkF8"
      },
      "source": [
        "# Handling Missing Data and Forming Data\r\n",
        "We can see that except \"ID\", \"Employement status\" and \"code writer\" features, there are missing values all over in the train data. \r\n",
        "Categorical features are given dummy variables with one-hot encoder technique.\r\n",
        "Ordinal features are mapped to integer values so that the ordering is understandable by the ML models.\r\n"
      ]
    },
    {
      "cell_type": "code",
      "metadata": {
        "id": "0q0ViwhFMmow",
        "colab": {
          "base_uri": "https://localhost:8080/"
        },
        "outputId": "c1241e87-18e6-4395-a047-6a4db5df661b"
      },
      "source": [
        "train_x.isnull().any()"
      ],
      "execution_count": null,
      "outputs": [
        {
          "output_type": "execute_result",
          "data": {
            "text/plain": [
              "GenderSelect                     True\n",
              "Country                          True\n",
              "Age                              True\n",
              "EmploymentStatus                False\n",
              "CurrentJobTitleSelect            True\n",
              "TitleFit                         True\n",
              "CurrentEmployerType              True\n",
              "MLToolNextYearSelect             True\n",
              "MLMethodNextYearSelect           True\n",
              "LanguageRecommendationSelect     True\n",
              "DataScienceIdentitySelect        True\n",
              "FormalEducation                  True\n",
              "MajorSelect                      True\n",
              "Tenure                           True\n",
              "PastJobTitlesSelect              True\n",
              "MLSkillsSelect                   True\n",
              "MLTechniquesSelect               True\n",
              "EmployerIndustry                 True\n",
              "EmployerSize                     True\n",
              "WorkProductionFrequency          True\n",
              "WorkAlgorithmsSelect             True\n",
              "WorkToolsFrequencyPython         True\n",
              "WorkToolsFrequencyR              True\n",
              "WorkToolsFrequencySQL            True\n",
              "CompensationScore                True\n",
              "WorkDataVisualizations           True\n",
              "WorkInternalVsExternalTools      True\n",
              "WorkMLTeamSeatSelect             True\n",
              "RemoteWork                       True\n",
              "dtype: bool"
            ]
          },
          "metadata": {
            "tags": []
          },
          "execution_count": 80
        }
      ]
    },
    {
      "cell_type": "code",
      "metadata": {
        "id": "fy-25lJapYzk",
        "colab": {
          "base_uri": "https://localhost:8080/"
        },
        "outputId": "ab5f9cff-f12a-4915-aeee-f4a4bbf1044b"
      },
      "source": [
        "test_x.isnull().any()"
      ],
      "execution_count": null,
      "outputs": [
        {
          "output_type": "execute_result",
          "data": {
            "text/plain": [
              "GenderSelect                     True\n",
              "Country                          True\n",
              "Age                              True\n",
              "EmploymentStatus                False\n",
              "CurrentJobTitleSelect           False\n",
              "TitleFit                         True\n",
              "CurrentEmployerType              True\n",
              "MLToolNextYearSelect             True\n",
              "MLMethodNextYearSelect           True\n",
              "LanguageRecommendationSelect     True\n",
              "DataScienceIdentitySelect        True\n",
              "FormalEducation                  True\n",
              "MajorSelect                      True\n",
              "Tenure                           True\n",
              "PastJobTitlesSelect              True\n",
              "MLSkillsSelect                   True\n",
              "MLTechniquesSelect               True\n",
              "EmployerIndustry                 True\n",
              "EmployerSize                     True\n",
              "WorkProductionFrequency          True\n",
              "WorkAlgorithmsSelect             True\n",
              "WorkToolsFrequencyPython         True\n",
              "WorkToolsFrequencyR              True\n",
              "WorkToolsFrequencySQL            True\n",
              "CompensationScore                True\n",
              "WorkDataVisualizations           True\n",
              "WorkInternalVsExternalTools      True\n",
              "WorkMLTeamSeatSelect             True\n",
              "RemoteWork                       True\n",
              "dtype: bool"
            ]
          },
          "metadata": {
            "tags": []
          },
          "execution_count": 81
        }
      ]
    },
    {
      "cell_type": "code",
      "metadata": {
        "id": "PrJiDMXSoCV-"
      },
      "source": [
        "for i in train_x.columns:\r\n",
        "  if train_x[i].isnull().any:\r\n",
        "    train_x[i] = train_x[i].fillna(train_x[i].mode()[0])"
      ],
      "execution_count": null,
      "outputs": []
    },
    {
      "cell_type": "code",
      "metadata": {
        "id": "WLAhVFRUqGjt"
      },
      "source": [
        "for i in test_x.columns:\r\n",
        "  if test_x[i].isnull().any:\r\n",
        "    test_x[i] = test_x[i].fillna(test_x[i].mode()[0])"
      ],
      "execution_count": null,
      "outputs": []
    },
    {
      "cell_type": "code",
      "metadata": {
        "id": "K0u3C0h9qNs5",
        "colab": {
          "base_uri": "https://localhost:8080/"
        },
        "outputId": "e3bfb1ee-f6af-4bbe-ef10-bec15344fe03"
      },
      "source": [
        "test_x.isnull().any()"
      ],
      "execution_count": null,
      "outputs": [
        {
          "output_type": "execute_result",
          "data": {
            "text/plain": [
              "GenderSelect                    False\n",
              "Country                         False\n",
              "Age                             False\n",
              "EmploymentStatus                False\n",
              "CurrentJobTitleSelect           False\n",
              "TitleFit                        False\n",
              "CurrentEmployerType             False\n",
              "MLToolNextYearSelect            False\n",
              "MLMethodNextYearSelect          False\n",
              "LanguageRecommendationSelect    False\n",
              "DataScienceIdentitySelect       False\n",
              "FormalEducation                 False\n",
              "MajorSelect                     False\n",
              "Tenure                          False\n",
              "PastJobTitlesSelect             False\n",
              "MLSkillsSelect                  False\n",
              "MLTechniquesSelect              False\n",
              "EmployerIndustry                False\n",
              "EmployerSize                    False\n",
              "WorkProductionFrequency         False\n",
              "WorkAlgorithmsSelect            False\n",
              "WorkToolsFrequencyPython        False\n",
              "WorkToolsFrequencyR             False\n",
              "WorkToolsFrequencySQL           False\n",
              "CompensationScore               False\n",
              "WorkDataVisualizations          False\n",
              "WorkInternalVsExternalTools     False\n",
              "WorkMLTeamSeatSelect            False\n",
              "RemoteWork                      False\n",
              "dtype: bool"
            ]
          },
          "metadata": {
            "tags": []
          },
          "execution_count": 84
        }
      ]
    },
    {
      "cell_type": "code",
      "metadata": {
        "id": "jdbJz4WuqAXh",
        "colab": {
          "base_uri": "https://localhost:8080/"
        },
        "outputId": "903d8819-bcb4-465d-c8db-d76bfe6fdf19"
      },
      "source": [
        "train_x.isnull().any()"
      ],
      "execution_count": null,
      "outputs": [
        {
          "output_type": "execute_result",
          "data": {
            "text/plain": [
              "GenderSelect                    False\n",
              "Country                         False\n",
              "Age                             False\n",
              "EmploymentStatus                False\n",
              "CurrentJobTitleSelect           False\n",
              "TitleFit                        False\n",
              "CurrentEmployerType             False\n",
              "MLToolNextYearSelect            False\n",
              "MLMethodNextYearSelect          False\n",
              "LanguageRecommendationSelect    False\n",
              "DataScienceIdentitySelect       False\n",
              "FormalEducation                 False\n",
              "MajorSelect                     False\n",
              "Tenure                          False\n",
              "PastJobTitlesSelect             False\n",
              "MLSkillsSelect                  False\n",
              "MLTechniquesSelect              False\n",
              "EmployerIndustry                False\n",
              "EmployerSize                    False\n",
              "WorkProductionFrequency         False\n",
              "WorkAlgorithmsSelect            False\n",
              "WorkToolsFrequencyPython        False\n",
              "WorkToolsFrequencyR             False\n",
              "WorkToolsFrequencySQL           False\n",
              "CompensationScore               False\n",
              "WorkDataVisualizations          False\n",
              "WorkInternalVsExternalTools     False\n",
              "WorkMLTeamSeatSelect            False\n",
              "RemoteWork                      False\n",
              "dtype: bool"
            ]
          },
          "metadata": {
            "tags": []
          },
          "execution_count": 85
        }
      ]
    },
    {
      "cell_type": "code",
      "metadata": {
        "id": "ZR0YE_MscV2q"
      },
      "source": [
        "#By using max-min scaling, make Age column scaled on TRAIN\r\n",
        "train_x[\"Age\"]= (train_x[\"Age\"]-train_x[\"Age\"].min())/(train_x[\"Age\"].max()-train_x[\"Age\"].min())\r\n",
        "\r\n",
        "#By using max-min scaling, make Age column scaled on Test\r\n",
        "test_x[\"Age\"]= (test_x[\"Age\"]-test_x[\"Age\"].min())/(test_x[\"Age\"].max()-test_x[\"Age\"].min())"
      ],
      "execution_count": null,
      "outputs": []
    },
    {
      "cell_type": "code",
      "metadata": {
        "id": "vOUgY6v_B0Gy"
      },
      "source": [
        "#By using max-min scaling, make CompensationScore column scaled on TRAIN\r\n",
        "train_x[\"CompensationScore\"]= (train_x[\"CompensationScore\"]-train_x[\"CompensationScore\"].min())/(train_x[\"CompensationScore\"].max()-train_x[\"CompensationScore\"].min())\r\n",
        "\r\n",
        "#By using max-min scaling, make CompensationScore column scaled on Test\r\n",
        "test_x[\"CompensationScore\"]= (test_x[\"CompensationScore\"]-test_x[\"CompensationScore\"].min())/(test_x[\"CompensationScore\"].max()-test_x[\"CompensationScore\"].min())"
      ],
      "execution_count": null,
      "outputs": []
    },
    {
      "cell_type": "code",
      "metadata": {
        "id": "JbYCXKNzgGcI"
      },
      "source": [
        "##ON TEST DATA\r\n",
        "##Fit transform with train_x data\r\n",
        "from sklearn.preprocessing import OneHotEncoder\r\n",
        "\r\n",
        "cat_enc_test = OneHotEncoder(handle_unknown='ignore')\r\n",
        "cat_enc_fit_test= cat_enc_test.fit_transform(train_x[[\"GenderSelect\", \"Country\", \"EmploymentStatus\", \"CurrentJobTitleSelect\", \"MLToolNextYearSelect\", \r\n",
        "                                                     \"MLMethodNextYearSelect\", \"LanguageRecommendationSelect\", \"MajorSelect\",\"EmployerIndustry\", \"WorkInternalVsExternalTools\",\r\n",
        "                                                     \"WorkMLTeamSeatSelect\"]]).toarray()\r\n",
        "cat_enc_fit_test_df=pd.DataFrame(cat_enc_fit_test)\r\n",
        "\r\n",
        "test_x = pd.merge(test_x, cat_enc_fit_test_df, right_index=True,left_index=True)\r\n",
        "test_x = test_x.drop(columns=[\"GenderSelect\", \"Country\", \"EmploymentStatus\", \"CurrentJobTitleSelect\", \"MLToolNextYearSelect\", \"MLMethodNextYearSelect\", \r\n",
        "                             \"LanguageRecommendationSelect\", \"MajorSelect\",\"EmployerIndustry\", \"WorkInternalVsExternalTools\", \r\n",
        "                              \"WorkMLTeamSeatSelect\"])"
      ],
      "execution_count": null,
      "outputs": []
    },
    {
      "cell_type": "code",
      "metadata": {
        "id": "s3I0HV8UkRDF"
      },
      "source": [
        "#ONE HOT ENCODING is applied to the ones that are categorical values\r\n",
        "\r\n",
        "cat_enc    = OneHotEncoder(handle_unknown='ignore')\r\n",
        "cat_enc_fit= cat_enc.fit_transform(train_x[[\"GenderSelect\", \"Country\", \"EmploymentStatus\", \"CurrentJobTitleSelect\", \"MLToolNextYearSelect\", \r\n",
        "                                \"MLMethodNextYearSelect\", \"LanguageRecommendationSelect\", \"MajorSelect\",\"EmployerIndustry\", \"WorkInternalVsExternalTools\", \r\n",
        "                                \"WorkMLTeamSeatSelect\"]]).toarray()\r\n",
        "cat_enc_fit_df = pd.DataFrame(cat_enc_fit)\r\n",
        "\r\n",
        "train_x = pd.merge(train_x, cat_enc_fit_df ,right_index=True,left_index=True)\r\n",
        "train_x = train_x.drop(columns=[\"GenderSelect\", \"Country\", \"EmploymentStatus\", \"CurrentJobTitleSelect\", \"MLToolNextYearSelect\", \r\n",
        "                              \"MLMethodNextYearSelect\", \"LanguageRecommendationSelect\", \"MajorSelect\",\"EmployerIndustry\", \"WorkInternalVsExternalTools\", \r\n",
        "                              \"WorkMLTeamSeatSelect\"])\r\n"
      ],
      "execution_count": null,
      "outputs": []
    },
    {
      "cell_type": "code",
      "metadata": {
        "colab": {
          "base_uri": "https://localhost:8080/"
        },
        "id": "QF_zn5WoeBgd",
        "outputId": "22e4f48f-5321-4c16-e060-290bf5fa86c0"
      },
      "source": [
        "train_x.shape"
      ],
      "execution_count": null,
      "outputs": [
        {
          "output_type": "execute_result",
          "data": {
            "text/plain": [
              "(5529, 223)"
            ]
          },
          "metadata": {
            "tags": []
          },
          "execution_count": 90
        }
      ]
    },
    {
      "cell_type": "code",
      "metadata": {
        "colab": {
          "base_uri": "https://localhost:8080/"
        },
        "id": "t4YkdANZeECH",
        "outputId": "f5f05473-18bf-4bf4-bee1-d05299fff700"
      },
      "source": [
        "test_x.shape"
      ],
      "execution_count": null,
      "outputs": [
        {
          "output_type": "execute_result",
          "data": {
            "text/plain": [
              "(1000, 223)"
            ]
          },
          "metadata": {
            "tags": []
          },
          "execution_count": 91
        }
      ]
    },
    {
      "cell_type": "code",
      "metadata": {
        "id": "gyeJOM8ThYzQ"
      },
      "source": [
        "#MULTIVARIABLE ONE HOT ENCODER ON Train\r\n",
        "\r\n",
        "dum_cum=train_x['CurrentEmployerType'].str.get_dummies(sep=',')\r\n",
        "train_x = pd.merge(train_x ,dum_cum ,right_index=True,left_index=True)\r\n",
        "train_x = train_x.drop(columns=\"CurrentEmployerType\")\r\n",
        "\r\n",
        "dum_past=train_x['PastJobTitlesSelect'].str.get_dummies(sep=',')\r\n",
        "train_x = pd.merge(train_x ,dum_past ,right_index=True,left_index=True)\r\n",
        "train_x = train_x.drop(columns=\"PastJobTitlesSelect\")\r\n",
        "\r\n",
        "dum_mltech=train_x['MLTechniquesSelect'].str.get_dummies(sep=',')\r\n",
        "train_x = pd.merge(train_x ,dum_mltech ,right_index=True,left_index=True)\r\n",
        "train_x = train_x.drop(columns=\"MLTechniquesSelect\")\r\n",
        "\r\n",
        "dum_workalgo=train_x['WorkAlgorithmsSelect'].str.get_dummies(sep=',')\r\n",
        "train_x = pd.merge(train_x ,dum_workalgo ,right_index=True,left_index=True)\r\n",
        "train_x = train_x.drop(columns=\"WorkAlgorithmsSelect\")\r\n",
        "\r\n",
        "dum_mlskil=train_x['MLSkillsSelect'].str.get_dummies(sep=',')\r\n",
        "train_x = pd.merge(train_x ,dum_mlskil ,right_index=True,left_index=True)\r\n",
        "train_x = train_x.drop(columns=\"MLSkillsSelect\")"
      ],
      "execution_count": null,
      "outputs": []
    },
    {
      "cell_type": "code",
      "metadata": {
        "id": "0IcpQz30Z5G4"
      },
      "source": [
        "##MULTIVARIABLE ONE HOT ENCODER ON TESTT DATA\r\n",
        "dum_cum=  test_x['CurrentEmployerType'].str.get_dummies(sep=',')\r\n",
        "test_x = pd.merge(test_x ,dum_cum ,right_index=True,left_index=True)\r\n",
        "test_x = test_x.drop(columns=\"CurrentEmployerType\")\r\n",
        "\r\n",
        "dum_past=test_x['PastJobTitlesSelect'].str.get_dummies(sep=',')\r\n",
        "test_x = pd.merge(test_x ,dum_past ,right_index=True,left_index=True)\r\n",
        "test_x = test_x.drop(columns=\"PastJobTitlesSelect\")\r\n",
        "\r\n",
        "dum_mltech=test_x['MLTechniquesSelect'].str.get_dummies(sep=',')\r\n",
        "test_x = pd.merge(test_x ,dum_mltech ,right_index=True,left_index=True)\r\n",
        "test_x = test_x.drop(columns=\"MLTechniquesSelect\")\r\n",
        "\r\n",
        "dum_workalgo= test_x['WorkAlgorithmsSelect'].str.get_dummies(sep=',')\r\n",
        "test_x = pd.merge(test_x ,dum_workalgo ,right_index=True,left_index=True)\r\n",
        "test_x = test_x.drop(columns=\"WorkAlgorithmsSelect\")\r\n",
        "\r\n",
        "dum_mlskil=test_x['MLSkillsSelect'].str.get_dummies(sep=',')\r\n",
        "test_x = pd.merge(test_x ,dum_mlskil ,right_index=True,left_index=True)\r\n",
        "test_x = test_x.drop(columns=\"MLSkillsSelect\")"
      ],
      "execution_count": null,
      "outputs": []
    },
    {
      "cell_type": "code",
      "metadata": {
        "id": "PWh_FlKodPZd"
      },
      "source": [
        "#MAPPING\r\n",
        "\r\n",
        "TitleFit_map = {'Poorly':0, 'Fine':0.5, 'Perfectly':1}\r\n",
        "train_x['TitleFit'] = train_x['TitleFit'].replace(TitleFit_map)\r\n",
        "test_x['TitleFit'] = test_x['TitleFit'].replace(TitleFit_map)\r\n",
        "\r\n",
        "DataScienceIdentitySelect_map = {'No':0, 'Sort of (Explain more)':0.5, 'Yes':1 }\r\n",
        "train_x['DataScienceIdentitySelect'] = train_x['DataScienceIdentitySelect'].replace(DataScienceIdentitySelect_map)\r\n",
        "test_x['DataScienceIdentitySelect'] = test_x['DataScienceIdentitySelect'].replace(DataScienceIdentitySelect_map)\r\n",
        "\r\n",
        "FormalEducation_map = {'I prefer not to answer':0, 'I did not complete any formal education past high school':1/6, \"Some college/university study without earning a bachelor's degree\":2/6,\r\n",
        "                       \"Bachelor's degree\":3/6, \"Master's degree\":4/6, 'Doctoral degree':5/6, 'Professional degree':1  }\r\n",
        "train_x['FormalEducation'] = train_x['FormalEducation'].replace(FormalEducation_map)\r\n",
        "test_x['FormalEducation'] = test_x['FormalEducation'].replace(FormalEducation_map)\r\n",
        "\r\n",
        "Tenure_map = {\"I don't write code to analyze data\":0, 'Less than a year':0.2, '1 to 2 years':0.4, '3 to 5 years':0.6, '6 to 10 years':0.8, 'More than 10 years':1 }\r\n",
        "train_x['Tenure'] = train_x['Tenure'].replace(Tenure_map)\r\n",
        "test_x['Tenure'] = test_x['Tenure'].replace(Tenure_map)\r\n",
        "\r\n",
        "EmployerSize_map = {'I prefer not to answer':0, \"I don't know\":0 , 'Fewer than 10 employees': 1/8, '10 to 19 employees':2/8, '20 to 99 employees':3/8, '100 to 499 employees':4/8, '500 to 999 employees':5/8,\r\n",
        "                    '1,000 to 4,999 employees':6/8, '5,000 to 9,999 employees':7/8, '10,000 or more employees':1 }\r\n",
        "train_x['EmployerSize'] = train_x['EmployerSize'].replace(EmployerSize_map)\r\n",
        "test_x['EmployerSize'] = test_x['EmployerSize'].replace(EmployerSize_map)                   \r\n",
        "\r\n",
        "WorkProductionFrequency_map = {'Never':0, \"Don't know\":0, 'Rarely':0.25, 'Sometimes':0.5, 'Most of the time':0.75,'Always':1 }\r\n",
        "train_x['WorkProductionFrequency'] = train_x['WorkProductionFrequency'].replace(WorkProductionFrequency_map)\r\n",
        "test_x['WorkProductionFrequency'] = test_x['WorkProductionFrequency'].replace(WorkProductionFrequency_map)     \r\n",
        "\r\n",
        "WorkToolsFrequencyPython_map = {'Rarely':0, 'Sometimes':1/3, 'Often':2/3, 'Most of the time':1 }\r\n",
        "train_x['WorkToolsFrequencyPython'] = train_x['WorkToolsFrequencyPython'].replace(WorkToolsFrequencyPython_map)\r\n",
        "test_x['WorkToolsFrequencyPython'] = test_x['WorkToolsFrequencyPython'].replace(WorkToolsFrequencyPython_map)     \r\n",
        "\r\n",
        "WorkToolsFrequencyR_map = {'Rarely':0, 'Sometimes':1/3, 'Often':2/3, 'Most of the time':1 }\r\n",
        "train_x['WorkToolsFrequencyR'] = train_x['WorkToolsFrequencyR'].replace(WorkToolsFrequencyR_map)\r\n",
        "test_x['WorkToolsFrequencyR'] = test_x['WorkToolsFrequencyR'].replace(WorkToolsFrequencyR_map)     \r\n",
        "\r\n",
        "WorkToolsFrequencySQL_map = {'Rarely':0, 'Sometimes':1/3, 'Often':2/3, 'Most of the time':1 }\r\n",
        "train_x['WorkToolsFrequencySQL'] = train_x['WorkToolsFrequencySQL'].replace(WorkToolsFrequencySQL_map)\r\n",
        "test_x['WorkToolsFrequencySQL'] = test_x['WorkToolsFrequencySQL'].replace(WorkToolsFrequencySQL_map)     \r\n",
        "\r\n",
        "WorkDataVisualizations_map = {'None':0, 'Less than 10% of projects':1/6, '10-25% of projects':2/6,  '26-50% of projects':3/6, '51-75% of projects':4/6, '76-99% of projects':5/6, '100% of projects':1 }\r\n",
        "train_x['WorkDataVisualizations'] = train_x['WorkDataVisualizations'].replace(WorkDataVisualizations_map)\r\n",
        "test_x['WorkDataVisualizations'] = test_x['WorkDataVisualizations'].replace(WorkDataVisualizations_map)     \r\n",
        "\r\n",
        "RemoteWork_map = {'Never':0, \"Don't know\":0, 'Rarely':0.25, 'Sometimes':0.5, 'Most of the time':0.75,'Always':1 }\r\n",
        "train_x['RemoteWork'] = train_x['RemoteWork'].replace(RemoteWork_map)\r\n",
        "test_x['RemoteWork'] = test_x['RemoteWork'].replace(RemoteWork_map)     \r\n"
      ],
      "execution_count": null,
      "outputs": []
    },
    {
      "cell_type": "code",
      "metadata": {
        "colab": {
          "base_uri": "https://localhost:8080/"
        },
        "id": "bNr3S9XhmK0a",
        "outputId": "1c63527a-f7f2-40c6-c79b-426cd2579472"
      },
      "source": [
        "train_x.shape"
      ],
      "execution_count": null,
      "outputs": [
        {
          "output_type": "execute_result",
          "data": {
            "text/plain": [
              "(5529, 284)"
            ]
          },
          "metadata": {
            "tags": []
          },
          "execution_count": 96
        }
      ]
    },
    {
      "cell_type": "code",
      "metadata": {
        "colab": {
          "base_uri": "https://localhost:8080/"
        },
        "id": "kTFr8ERNhp82",
        "outputId": "3be7a06e-3de0-4081-936f-42ff6b601a85"
      },
      "source": [
        "test_x.shape"
      ],
      "execution_count": null,
      "outputs": [
        {
          "output_type": "execute_result",
          "data": {
            "text/plain": [
              "(1000, 284)"
            ]
          },
          "metadata": {
            "tags": []
          },
          "execution_count": 97
        }
      ]
    },
    {
      "cell_type": "code",
      "metadata": {
        "id": "H1bzWtsKq3PK"
      },
      "source": [
        "#Our Estimator Models\r\n",
        "forest_model = RandomForestRegressor(max_depth=3, random_state=42)\r\n",
        "\r\n",
        "dec_tree_model = DecisionTreeRegressor(max_depth=15,random_state=42) #DecisionTreeRegressor\r\n",
        "\r\n",
        "lin_reg = LinearRegression()"
      ],
      "execution_count": null,
      "outputs": []
    },
    {
      "cell_type": "code",
      "metadata": {
        "id": "1yAI1WdKB3_O"
      },
      "source": [
        "#StackingRegressor Model which takes RandomForestRegressor, RandomForestRegressor, LinearRegression as estimator and final is GradientBoostingRegressor\r\n",
        "estimator =  [('lr', lin_reg),('dr', dec_tree_model) ,('rf', forest_model) ]\r\n",
        "\r\n",
        "final = GradientBoostingRegressor(\r\n",
        "     n_estimators=25, subsample=0.5, min_samples_leaf=25, max_features=1, \r\n",
        "     random_state=42)\r\n",
        "\r\n",
        "reg = StackingRegressor(estimators=estimator,   final_estimator= final )\r\n",
        "\r\n",
        "reg.fit(train_x , train_y)\r\n",
        "stack_pred = reg.predict(test_x)\r\n",
        "scores = cross_val_score(reg, train_x, train_y, cv=10)"
      ],
      "execution_count": null,
      "outputs": []
    },
    {
      "cell_type": "code",
      "metadata": {
        "colab": {
          "base_uri": "https://localhost:8080/"
        },
        "id": "w89HS11j5NLZ",
        "outputId": "54e5900d-22b7-4bf1-abac-1c952bd3ab38"
      },
      "source": [
        "print(\"Cross-validation score for the stacking ensemble method:\", scores.mean(),\"Score std\", scores.std())"
      ],
      "execution_count": null,
      "outputs": [
        {
          "output_type": "stream",
          "text": [
            "Cross-validation score for the stacking ensemble method: 0.1004805579142622 Score std 0.02346998784368759\n"
          ],
          "name": "stdout"
        }
      ]
    },
    {
      "cell_type": "code",
      "metadata": {
        "id": "L1538eaBRlXN"
      },
      "source": [
        "#To make submisson on Kaggle make CSV file \r\n",
        "ids = []\r\n",
        "\r\n",
        "len_pred =len(stack_pred)\r\n",
        "for i in range(1 ,len_pred+1):\r\n",
        "  ids.append(i)\r\n",
        "\r\n",
        "#pred=[]\r\n",
        "#to make Neural Network\r\n",
        "#for i in range( 0,len_pred):  \r\n",
        "#  pred=np.concatenate((pred,nnpred[i] ))\r\n",
        "\r\n",
        "arr = [ids, stack_pred]\r\n",
        "submit1 = zip_longest(*arr, fillvalue = '')\r\n",
        "with open('group43_submission.csv', 'w', encoding=\"ISO-8859-1\", newline='') as myfile:\r\n",
        "      wr = csv.writer(myfile)\r\n",
        "      wr.writerow((\"ID\", \"Prediction\"))\r\n",
        "      wr.writerows(submit1)\r\n",
        "myfile.close()"
      ],
      "execution_count": null,
      "outputs": []
    }
  ]
}